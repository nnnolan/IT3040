{
 "cells": [
  {
   "cell_type": "code",
   "execution_count": 1,
   "id": "a8d37f37",
   "metadata": {},
   "outputs": [],
   "source": [
    "import pandas as pd\n",
    "import numpy as np"
   ]
  },
  {
   "cell_type": "code",
   "execution_count": 2,
   "id": "82673ce4",
   "metadata": {},
   "outputs": [
    {
     "name": "stdout",
     "output_type": "stream",
     "text": [
      "   Administrative  Administrative_Duration  Informational  \\\n",
      "0               3               142.500000              0   \n",
      "1               6               437.391304              2   \n",
      "2               1                41.125000              0   \n",
      "3               2               141.000000              0   \n",
      "4              18               608.140000              6   \n",
      "\n",
      "   Informational_Duration  ProductRelated  ProductRelated_Duration  \\\n",
      "0                    0.00              48              1052.255952   \n",
      "1                  235.55              83              2503.881781   \n",
      "2                    0.00             126              4310.004668   \n",
      "3                    0.00              10               606.666667   \n",
      "4                  733.80             168              4948.398759   \n",
      "\n",
      "   BounceRates  ExitRates  PageValues  SpecialDay Month  OperatingSystems  \\\n",
      "0     0.004348   0.013043    0.000000         0.0   Nov                 1   \n",
      "1     0.002198   0.004916    2.086218         0.0   Mar                 2   \n",
      "2     0.000688   0.012823    3.451072         0.0   Nov                 2   \n",
      "3     0.008333   0.026389   36.672294         0.0   Aug                 2   \n",
      "4     0.006632   0.013528   10.150644         0.0   Aug                 2   \n",
      "\n",
      "   Browser  Region  TrafficType        VisitorType  Weekend  Revenue  \n",
      "0        8       6           11  Returning_Visitor    False    False  \n",
      "1        2       3            2  Returning_Visitor    False     True  \n",
      "2        2       2            2  Returning_Visitor    False    False  \n",
      "3        5       7            4  Returning_Visitor    False    False  \n",
      "4        2       3            1  Returning_Visitor     True    False  \n",
      "['Returning_Visitor' 'New_Visitor' 'Other']\n"
     ]
    }
   ],
   "source": [
    "## quick data clean up\n",
    "\n",
    "df = pd.read_csv(\"shopping.csv\")\n",
    "print(df.head())\n",
    "print(df['VisitorType'].unique())"
   ]
  },
  {
   "cell_type": "code",
   "execution_count": 3,
   "id": "b38e26d5",
   "metadata": {},
   "outputs": [],
   "source": [
    "# stuff to transform strings into text\n",
    "\n",
    "months = {\n",
    "    \"Jan\": 1,\n",
    "    \"Feb\": 2,\n",
    "    \"Mar\": 3,\n",
    "    \"Apr\": 4,\n",
    "    \"May\": 5,\n",
    "    \"June\": 6,\n",
    "    \"Jul\": 7,\n",
    "    \"Aug\": 8,\n",
    "    \"Sep\": 9,\n",
    "    \"Oct\": 10,\n",
    "    \"Nov\": 11,\n",
    "    \"Dec\": 12\n",
    "}\n",
    "\n",
    "visitor_types = {\n",
    "    \"Returning_Visitor\": 1,\n",
    "    \"New_Visitor\": 2,\n",
    "    \"Other\": 3\n",
    "}"
   ]
  },
  {
   "cell_type": "code",
   "execution_count": 4,
   "id": "e755bc0f",
   "metadata": {},
   "outputs": [
    {
     "name": "stdout",
     "output_type": "stream",
     "text": [
      "   Administrative  Administrative_Duration  Informational  \\\n",
      "0               3               142.500000              0   \n",
      "1               6               437.391304              2   \n",
      "2               1                41.125000              0   \n",
      "\n",
      "   Informational_Duration  ProductRelated  ProductRelated_Duration  \\\n",
      "0                    0.00              48              1052.255952   \n",
      "1                  235.55              83              2503.881781   \n",
      "2                    0.00             126              4310.004668   \n",
      "\n",
      "   BounceRates  ExitRates  PageValues  SpecialDay  Month  OperatingSystems  \\\n",
      "0     0.004348   0.013043    0.000000         0.0     11                 1   \n",
      "1     0.002198   0.004916    2.086218         0.0      3                 2   \n",
      "2     0.000688   0.012823    3.451072         0.0     11                 2   \n",
      "\n",
      "   Browser  Region  TrafficType  VisitorType  Weekend  Revenue  \n",
      "0        8       6           11            1    False    False  \n",
      "1        2       3            2            1    False     True  \n",
      "2        2       2            2            1    False    False  \n"
     ]
    }
   ],
   "source": [
    "df['Month'] = df['Month'].map(months)\n",
    "df['VisitorType'] = df['VisitorType'].map(visitor_types)\n",
    "\n",
    "# cool trick, thanks stackoverflow. this turns bools into 1s and 0s\n",
    "# https://stackoverflow.com/questions/17383094/how-can-i-map-true-false-to-1-0-in-a-pandas-dataframe\n",
    "# df[\"Weekend\"] = df[\"Weekend\"].astype(int)\n",
    "# df[\"Revenue\"] = df[\"Revenue\"].astype(int)\n",
    "\n",
    "print(df.head(3))"
   ]
  },
  {
   "cell_type": "markdown",
   "id": "112d91a8",
   "metadata": {},
   "source": [
    "### Now our data is formatted, let's get silly\n",
    "\n",
    "We are here to predict the *revenue* column, as if it is true (1) than that means the user made a purchase. Predict using linaer regression \n",
    "Lets start by implementing funcitons we're familiar with, and that are specified \n",
    "\n",
    "We will start with the building block functions, normalization is a good place to start, as there are some data that is kinda wacky. \n"
   ]
  },
  {
   "cell_type": "code",
   "execution_count": 8,
   "id": "805a7157",
   "metadata": {},
   "outputs": [
    {
     "name": "stdout",
     "output_type": "stream",
     "text": [
      "       Administrative  Administrative_Duration  Informational  \\\n",
      "count     5000.000000              5000.000000    5000.000000   \n",
      "mean         2.295000                79.828436       0.505600   \n",
      "std          3.329954               178.029543       1.303652   \n",
      "min          0.000000                 0.000000       0.000000   \n",
      "25%          0.000000                 0.000000       0.000000   \n",
      "50%          1.000000                 6.000000       0.000000   \n",
      "75%          4.000000                93.700000       0.000000   \n",
      "max         24.000000              3398.750000      24.000000   \n",
      "\n",
      "       Informational_Duration  ProductRelated  ProductRelated_Duration  \\\n",
      "count             5000.000000     5000.000000              5000.000000   \n",
      "mean                35.912869       31.885000              1197.255606   \n",
      "std                151.439339       45.036099              2100.700466   \n",
      "min                  0.000000        0.000000                 0.000000   \n",
      "25%                  0.000000        7.000000               183.250000   \n",
      "50%                  0.000000       18.000000               595.937500   \n",
      "75%                  0.000000       39.000000              1441.926575   \n",
      "max               2549.375000      705.000000             63973.522230   \n",
      "\n",
      "       BounceRates    ExitRates   PageValues   SpecialDay        Month  \\\n",
      "count  5000.000000  5000.000000  5000.000000  5000.000000  5000.000000   \n",
      "mean      0.023182     0.043922     5.742553     0.063320     7.618000   \n",
      "std       0.050033     0.049858    18.265368     0.202244     3.396643   \n",
      "min       0.000000     0.000000     0.000000     0.000000     2.000000   \n",
      "25%       0.000000     0.014213     0.000000     0.000000     5.000000   \n",
      "50%       0.003279     0.025397     0.000000     0.000000     7.000000   \n",
      "75%       0.017241     0.050000     0.000000     0.000000    11.000000   \n",
      "max       0.200000     0.200000   287.953793     1.000000    12.000000   \n",
      "\n",
      "       OperatingSystems    Browser       Region  TrafficType  VisitorType  \n",
      "count       5000.000000  5000.0000  5000.000000  5000.000000   5000.00000  \n",
      "mean           2.145200     2.3574     3.162600     4.071000      1.15000  \n",
      "std            0.932894     1.7297     2.410503     4.037427      0.37567  \n",
      "min            1.000000     1.0000     1.000000     1.000000      1.00000  \n",
      "25%            2.000000     2.0000     1.000000     2.000000      1.00000  \n",
      "50%            2.000000     2.0000     3.000000     2.000000      1.00000  \n",
      "75%            3.000000     2.0000     4.000000     4.000000      1.00000  \n",
      "max            8.000000    13.0000     9.000000    20.000000      3.00000  \n"
     ]
    }
   ],
   "source": [
    "\"\"\"\n",
    "These are the three common scaling methods used in machine learning. (also the three specificed in the assigment lolz)\n",
    "Scaling is important as it not only helps in speeding up the training process, but also bias (overfitting) relative to a feature. \n",
    "\"\"\"\n",
    "\n",
    "# pep 3107 i love you\n",
    "def z_score_scaling(X: np.array) -> np.array:\n",
    "    \"\"\"\n",
    "    z_score_scaling takes in an array of features, and returns a scaled version using the Z-score scaling formula.\n",
    "    This will return an array with each feature with mean of 0 and standard deviation of 1.\n",
    "    \"\"\"\n",
    "    # initialize arrays for means and standard deviations for each column\n",
    "    means = np.mean(X)\n",
    "    stds = np.std(X)    # standard deviation\n",
    "\n",
    "    # apply the z-score scaling formula\n",
    "    X_scaled = (X - means) / stds\n",
    "    return X_scaled\n",
    "\n",
    "def min_max_scaling(X: np.array) -> np.array:\n",
    "    \"\"\"\n",
    "    min_max_scaling takes in an array of features, and returns a scaled version using the min-max scaling formula.\n",
    "    This will return an array with each feature between 0 and 1, with the previous lowest being 0, and the previous highest being 1.\n",
    "    \"\"\"\n",
    "    # get mins and maxes for each column\n",
    "    mins = np.min(X)\n",
    "    maxes = np.max(X)\n",
    "    \n",
    "    # apply the min-max scaling formula\n",
    "    X_scaled = (X - mins) / (maxes - mins)\n",
    "    \n",
    "    return X_scaled\n",
    "\n",
    "def mean_normalization(X):\n",
    "    \"\"\"\n",
    "    mean_normalization takes in an array of features, and returns a scaled version using the mean normalization formula.\n",
    "    This will return an array with each feature scaled realtve to the mean of the feature.\n",
    "    \"\"\"\n",
    "    \n",
    "    # get the means\n",
    "    means = np.mean(X)\n",
    "    \n",
    "    #subtract the means from each feature\n",
    "    X_scaled = X - means\n",
    "    return X_scaled\n",
    "\n",
    "\n",
    "# get some info to determine \n",
    "print(df.describe())"
   ]
  },
  {
   "cell_type": "code",
   "execution_count": 18,
   "id": "a664f09d",
   "metadata": {},
   "outputs": [
    {
     "name": "stdout",
     "output_type": "stream",
     "text": [
      "   Administrative  Administrative_Duration  Informational  \\\n",
      "0        0.211736                 0.352064      -0.387872   \n",
      "1        1.112739                 2.008648       1.146433   \n",
      "2       -0.388933                -0.217421      -0.387872   \n",
      "\n",
      "   Informational_Duration  ProductRelated  ProductRelated_Duration  \\\n",
      "0               -0.237167        0.357860                -0.069031   \n",
      "1                1.318397        1.135092                 0.622058   \n",
      "2               -0.237167        2.089977                 1.481915   \n",
      "\n",
      "   BounceRates  ExitRates  PageValues  SpecialDay  Month  OperatingSystems  \\\n",
      "0    -0.376478  -0.619388   -0.314427   -0.313118     11                 1   \n",
      "1    -0.419455  -0.782413   -0.200199   -0.313118      3                 2   \n",
      "2    -0.449638  -0.623814   -0.125468   -0.313118     11                 2   \n",
      "\n",
      "   Browser  Region  TrafficType  VisitorType  Weekend  Revenue  \n",
      "0        8       6           11            1    False    False  \n",
      "1        2       3            2            1    False     True  \n",
      "2        2       2            2            1    False    False  \n"
     ]
    }
   ],
   "source": [
    "# list of columns to normalize\n",
    "# we chose to normalize all the columns that are not binary or categorical\n",
    "columns_to_normalize = [\n",
    "    'Administrative',\n",
    "    'Administrative_Duration',\n",
    "    'Informational',\n",
    "    'Informational_Duration',\n",
    "    'ProductRelated',\n",
    "    'ProductRelated_Duration',\n",
    "    'BounceRates',\n",
    "    'ExitRates',\n",
    "    'PageValues',\n",
    "    'SpecialDay'\n",
    "]\n",
    "\n",
    "# apply scaling to the selected columns\n",
    "\n",
    "# !!!! this is the part where we can change what normalization method we want to use, as specificed in the writeup\n",
    "for column in columns_to_normalize:\n",
    "    df[column] = z_score_scaling(df[column])\n",
    "\n",
    "# normalized, lets go\n",
    "print(df.head(3))"
   ]
  },
  {
   "cell_type": "markdown",
   "id": "234c5008",
   "metadata": {},
   "source": [
    "# now our data is normalized and ready to go, lets start moving into the ml aspect\n",
    "\n",
    "we want to predict the revnue in the y, so lets start splitting there "
   ]
  },
  {
   "cell_type": "code",
   "execution_count": 19,
   "id": "03d0c95a",
   "metadata": {},
   "outputs": [],
   "source": [
    "X = df.drop('Revenue', axis=1) # axis = 1 drops column, axis = 0 drops row\n",
    "y = df['Revenue'] \n",
    "\n",
    "# we can split into training and testing sets here, i dont think we have to cross validate so 80/20 split, where 80% is training and 20% is testing\n",
    "split_80 = int(len(X) * 0.8)\n",
    "X_train = X[:split_80]\n",
    "x_test = X[split_80:]\n",
    "\n",
    "y_train = y[:split_80]\n",
    "y_test = y[split_80:]"
   ]
  },
  {
   "cell_type": "code",
   "execution_count": 20,
   "id": "52a10948",
   "metadata": {},
   "outputs": [],
   "source": []
  },
  {
   "cell_type": "code",
   "execution_count": null,
   "id": "5f42892c",
   "metadata": {},
   "outputs": [],
   "source": []
  }
 ],
 "metadata": {
  "kernelspec": {
   "display_name": "Python 3 (ipykernel)",
   "language": "python",
   "name": "python3"
  },
  "language_info": {
   "codemirror_mode": {
    "name": "ipython",
    "version": 3
   },
   "file_extension": ".py",
   "mimetype": "text/x-python",
   "name": "python",
   "nbconvert_exporter": "python",
   "pygments_lexer": "ipython3",
   "version": "3.11.5"
  }
 },
 "nbformat": 4,
 "nbformat_minor": 5
}
