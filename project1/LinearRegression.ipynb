{
 "cells": [
  {
   "cell_type": "code",
   "execution_count": 2,
   "id": "a8d37f37",
   "metadata": {},
   "outputs": [],
   "source": [
    "import pandas as pd\n",
    "import numpy as np"
   ]
  },
  {
   "cell_type": "code",
   "execution_count": 3,
   "id": "82673ce4",
   "metadata": {},
   "outputs": [
    {
     "name": "stdout",
     "output_type": "stream",
     "text": [
      "   Administrative  Administrative_Duration  Informational  \\\n",
      "0               3               142.500000              0   \n",
      "1               6               437.391304              2   \n",
      "2               1                41.125000              0   \n",
      "3               2               141.000000              0   \n",
      "4              18               608.140000              6   \n",
      "\n",
      "   Informational_Duration  ProductRelated  ProductRelated_Duration  \\\n",
      "0                    0.00              48              1052.255952   \n",
      "1                  235.55              83              2503.881781   \n",
      "2                    0.00             126              4310.004668   \n",
      "3                    0.00              10               606.666667   \n",
      "4                  733.80             168              4948.398759   \n",
      "\n",
      "   BounceRates  ExitRates  PageValues  SpecialDay Month  OperatingSystems  \\\n",
      "0     0.004348   0.013043    0.000000         0.0   Nov                 1   \n",
      "1     0.002198   0.004916    2.086218         0.0   Mar                 2   \n",
      "2     0.000688   0.012823    3.451072         0.0   Nov                 2   \n",
      "3     0.008333   0.026389   36.672294         0.0   Aug                 2   \n",
      "4     0.006632   0.013528   10.150644         0.0   Aug                 2   \n",
      "\n",
      "   Browser  Region  TrafficType        VisitorType  Weekend  Revenue  \n",
      "0        8       6           11  Returning_Visitor    False    False  \n",
      "1        2       3            2  Returning_Visitor    False     True  \n",
      "2        2       2            2  Returning_Visitor    False    False  \n",
      "3        5       7            4  Returning_Visitor    False    False  \n",
      "4        2       3            1  Returning_Visitor     True    False  \n",
      "['Returning_Visitor' 'New_Visitor' 'Other']\n"
     ]
    }
   ],
   "source": [
    "## quick data clean up\n",
    "\n",
    "df = pd.read_csv(\"shopping.csv\")\n",
    "print(df.head())\n",
    "print(df['VisitorType'].unique())"
   ]
  },
  {
   "cell_type": "code",
   "execution_count": 4,
   "id": "b38e26d5",
   "metadata": {},
   "outputs": [],
   "source": [
    "# stuff to transform strings into text\n",
    "\n",
    "months = {\n",
    "    \"Jan\": 1,\n",
    "    \"Feb\": 2,\n",
    "    \"Mar\": 3,\n",
    "    \"Apr\": 4,\n",
    "    \"May\": 5,\n",
    "    \"June\": 6,\n",
    "    \"Jul\": 7,\n",
    "    \"Aug\": 8,\n",
    "    \"Sep\": 9,\n",
    "    \"Oct\": 10,\n",
    "    \"Nov\": 11,\n",
    "    \"Dec\": 12\n",
    "}\n",
    "\n",
    "visitor_types = {\n",
    "    \"Returning_Visitor\": 1,\n",
    "    \"New_Visitor\": 2,\n",
    "    \"Other\": 3\n",
    "}"
   ]
  },
  {
   "cell_type": "code",
   "execution_count": 5,
   "id": "e755bc0f",
   "metadata": {},
   "outputs": [
    {
     "name": "stdout",
     "output_type": "stream",
     "text": [
      "   Administrative  Administrative_Duration  Informational  \\\n",
      "0               3               142.500000              0   \n",
      "1               6               437.391304              2   \n",
      "2               1                41.125000              0   \n",
      "\n",
      "   Informational_Duration  ProductRelated  ProductRelated_Duration  \\\n",
      "0                    0.00              48              1052.255952   \n",
      "1                  235.55              83              2503.881781   \n",
      "2                    0.00             126              4310.004668   \n",
      "\n",
      "   BounceRates  ExitRates  PageValues  SpecialDay  Month  OperatingSystems  \\\n",
      "0     0.004348   0.013043    0.000000         0.0     11                 1   \n",
      "1     0.002198   0.004916    2.086218         0.0      3                 2   \n",
      "2     0.000688   0.012823    3.451072         0.0     11                 2   \n",
      "\n",
      "   Browser  Region  TrafficType  VisitorType  Weekend  Revenue  \n",
      "0        8       6           11            1    False    False  \n",
      "1        2       3            2            1    False     True  \n",
      "2        2       2            2            1    False    False  \n"
     ]
    }
   ],
   "source": [
    "df['Month'] = df['Month'].map(months)\n",
    "df['VisitorType'] = df['VisitorType'].map(visitor_types)\n",
    "\n",
    "# cool trick, thanks stackoverflow. this turns bools into 1s and 0s\n",
    "# https://stackoverflow.com/questions/17383094/how-can-i-map-true-false-to-1-0-in-a-pandas-dataframe\n",
    "# df[\"Weekend\"] = df[\"Weekend\"].astype(int)\n",
    "# df[\"Revenue\"] = df[\"Revenue\"].astype(int)\n",
    "\n",
    "print(df.head(3))"
   ]
  },
  {
   "cell_type": "markdown",
   "id": "112d91a8",
   "metadata": {},
   "source": [
    "### Now our data is formatted, let's get silly\n",
    "\n",
    "We are here to predict the *revenue* column, as if it is true (1) than that means the user made a purchase. Predict using linaer regression \n",
    "Lets start by implementing funcitons we're familiar with, and that are specified \n",
    "\n",
    "We will start with the building block functions, normalization is a good place to start, as there are some data that is kinda wacky. \n"
   ]
  },
  {
   "cell_type": "code",
   "execution_count": 11,
   "id": "805a7157",
   "metadata": {},
   "outputs": [
    {
     "name": "stdout",
     "output_type": "stream",
     "text": [
      "0       0.211736\n",
      "1       1.112739\n",
      "2      -0.388933\n",
      "3      -0.088599\n",
      "4       4.716753\n",
      "          ...   \n",
      "4995    0.512070\n",
      "4996    0.812405\n",
      "4997   -0.689268\n",
      "4998   -0.689268\n",
      "4999   -0.088599\n",
      "Name: Administrative, Length: 5000, dtype: float64\n",
      "0       0.125000\n",
      "1       0.250000\n",
      "2       0.041667\n",
      "3       0.083333\n",
      "4       0.750000\n",
      "          ...   \n",
      "4995    0.166667\n",
      "4996    0.208333\n",
      "4997    0.000000\n",
      "4998    0.000000\n",
      "4999    0.083333\n",
      "Name: Administrative, Length: 5000, dtype: float64\n",
      "0        0.705\n",
      "1        3.705\n",
      "2       -1.295\n",
      "3       -0.295\n",
      "4       15.705\n",
      "         ...  \n",
      "4995     1.705\n",
      "4996     2.705\n",
      "4997    -2.295\n",
      "4998    -2.295\n",
      "4999    -0.295\n",
      "Name: Administrative, Length: 5000, dtype: float64\n"
     ]
    }
   ],
   "source": [
    "\"\"\"\n",
    "These are the three common scaling methods used in machine learning. (also the three specificed in the assigment lolz)\n",
    "Scaling is important as it not only helps in speeding up the training process, but also bias (overfitting) relative to a feature. \n",
    "\"\"\"\n",
    "\n",
    "# pep 3107 i love you\n",
    "def z_score_scaling(X: np.array) -> np.array:\n",
    "    \"\"\"\n",
    "    z_score_scaling takes in an array of features, and returns a scaled version using the Z-score scaling formula.\n",
    "    This will return an array with each feature with mean of 0 and standard deviation of 1.\n",
    "    \"\"\"\n",
    "    # initialize arrays for means and standard deviations for each column\n",
    "    means = np.mean(X)\n",
    "    stds = np.std(X)    # standard deviation\n",
    "\n",
    "    # apply the z-score scaling formula\n",
    "    X_scaled = (X - means) / stds\n",
    "    return X_scaled\n",
    "\n",
    "def min_max_scaling(X: np.array) -> np.array:\n",
    "    \"\"\"\n",
    "    min_max_scaling takes in an array of features, and returns a scaled version using the min-max scaling formula.\n",
    "    This will return an array with each feature between 0 and 1, with the previous lowest being 0, and the previous highest being 1.\n",
    "    \"\"\"\n",
    "    # get mins and maxes for each column\n",
    "    mins = np.min(X)\n",
    "    maxes = np.max(X)\n",
    "    \n",
    "    # apply the min-max scaling formula\n",
    "    X_scaled = (X - mins) / (maxes - mins)\n",
    "    \n",
    "    return X_scaled\n",
    "\n",
    "def mean_normalization(X):\n",
    "    \"\"\"\n",
    "    mean_normalization takes in an array of features, and returns a scaled version using the mean normalization formula.\n",
    "    This will return an array with each feature scaled realtve to the mean of the feature.\n",
    "    \"\"\"\n",
    "    \n",
    "    # get the means\n",
    "    means = np.mean(X)\n",
    "    \n",
    "    #subtract the means from each feature\n",
    "    X_scaled = X - means\n",
    "    return X_scaled\n",
    "\n",
    "\n"
   ]
  },
  {
   "cell_type": "code",
   "execution_count": null,
   "id": "71309031",
   "metadata": {},
   "outputs": [],
   "source": [
    "\n"
   ]
  },
  {
   "cell_type": "code",
   "execution_count": null,
   "id": "02adb8f3",
   "metadata": {},
   "outputs": [],
   "source": []
  }
 ],
 "metadata": {
  "kernelspec": {
   "display_name": "Python 3 (ipykernel)",
   "language": "python",
   "name": "python3"
  },
  "language_info": {
   "codemirror_mode": {
    "name": "ipython",
    "version": 3
   },
   "file_extension": ".py",
   "mimetype": "text/x-python",
   "name": "python",
   "nbconvert_exporter": "python",
   "pygments_lexer": "ipython3",
   "version": "3.11.5"
  }
 },
 "nbformat": 4,
 "nbformat_minor": 5
}
