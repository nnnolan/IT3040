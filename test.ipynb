{
 "cells": [
  {
   "cell_type": "code",
   "execution_count": null,
   "metadata": {},
   "outputs": [
    {
     "name": "stdout",
     "output_type": "stream",
     "text": [
      "[ 1.01265823 -1.01265823 -1.01265823  0.40506329]\n",
      "[-1.18987342  2.97468354 -2.97468354  2.97468354]\n"
     ]
    },
    {
     "ename": "TypeError",
     "evalue": "unsupported operand type(s) for +: 'NoneType' and 'NoneType'",
     "output_type": "error",
     "traceback": [
      "\u001b[0;31m---------------------------------------------------------------------------\u001b[0m",
      "\u001b[0;31mTypeError\u001b[0m                                 Traceback (most recent call last)",
      "Cell \u001b[0;32mIn[2], line 14\u001b[0m\n\u001b[1;32m     11\u001b[0m \u001b[38;5;28;01mdef\u001b[39;00m \u001b[38;5;21mget_transpose\u001b[39m(u , v):\n\u001b[1;32m     12\u001b[0m     \u001b[38;5;28mprint\u001b[39m(u \u001b[38;5;241m*\u001b[39m np\u001b[38;5;241m.\u001b[39mdot(v, u) \u001b[38;5;241m/\u001b[39m np\u001b[38;5;241m.\u001b[39mdot(u, u))\n\u001b[0;32m---> 14\u001b[0m v_1 \u001b[38;5;241m=\u001b[39m get_transpose(u_1, v) \u001b[38;5;241m+\u001b[39m get_transpose(u_2, v) \u001b[38;5;241m+\u001b[39m get_transpose(u_3, v)\n\u001b[1;32m     15\u001b[0m v_2 \u001b[38;5;241m=\u001b[39m get_transpose(u_4, v)\n\u001b[1;32m     17\u001b[0m \u001b[38;5;28mprint\u001b[39m(v_1, v_2)\n",
      "\u001b[0;31mTypeError\u001b[0m: unsupported operand type(s) for +: 'NoneType' and 'NoneType'"
     ]
    }
   ],
   "source": [
    "import numpy as np\n",
    "\n",
    "\n",
    "u_1 = np.array([-5,5,5,-2]).transpose() # \n",
    "u_2 = np.array([-2,5,-5,5]).transpose()\n",
    "u_3 = np.array([5,5,-2,-5]).transpose()\n",
    "u_4 = np.array([5,2,5,5]).transpose()\n",
    "v = np.array([4,5,-3,3]).transpose()\n",
    "\n",
    "\n",
    "def get_transpose(u , v) -> np.ndarray:\n",
    "    return(u * np.dot(v, u) / np.dot(u, u))\n",
    "    \n",
    "v_1 = get_transpose(u_1, v) + get_transpose(u_2, v) + get_transpose(u_3, v)\n",
    "v_2 = get_transpose(u_4, v)\n",
    "\n",
    "print(v_1, v_2)"
   ]
  },
  {
   "cell_type": "code",
   "execution_count": null,
   "metadata": {},
   "outputs": [],
   "source": []
  }
 ],
 "metadata": {
  "kernelspec": {
   "display_name": "base",
   "language": "python",
   "name": "python3"
  },
  "language_info": {
   "codemirror_mode": {
    "name": "ipython",
    "version": 3
   },
   "file_extension": ".py",
   "mimetype": "text/x-python",
   "name": "python",
   "nbconvert_exporter": "python",
   "pygments_lexer": "ipython3",
   "version": "3.11.5"
  }
 },
 "nbformat": 4,
 "nbformat_minor": 2
}
