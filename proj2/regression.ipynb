{
 "cells": [
  {
   "cell_type": "code",
   "execution_count": 1,
   "metadata": {},
   "outputs": [],
   "source": [
    "import pandas as pd\n",
    "import numpy as np\n",
    "import matplotlib.pyplot as plt\n",
    "#ml \n",
    "from sklearn.model_selection import train_test_split\n",
    "from sklearn.linear_model import LinearRegression"
   ]
  },
  {
   "cell_type": "code",
   "execution_count": 3,
   "metadata": {},
   "outputs": [
    {
     "name": "stdout",
     "output_type": "stream",
     "text": [
      "   Administrative  Administrative_Duration  Informational  \\\n",
      "0               3               142.500000              0   \n",
      "1               6               437.391304              2   \n",
      "2               1                41.125000              0   \n",
      "3               2               141.000000              0   \n",
      "4              18               608.140000              6   \n",
      "\n",
      "   Informational_Duration  ProductRelated  ProductRelated_Duration  \\\n",
      "0                    0.00              48              1052.255952   \n",
      "1                  235.55              83              2503.881781   \n",
      "2                    0.00             126              4310.004668   \n",
      "3                    0.00              10               606.666667   \n",
      "4                  733.80             168              4948.398759   \n",
      "\n",
      "   BounceRates  ExitRates  PageValues  SpecialDay Month  OperatingSystems  \\\n",
      "0     0.004348   0.013043    0.000000         0.0   Nov                 1   \n",
      "1     0.002198   0.004916    2.086218         0.0   Mar                 2   \n",
      "2     0.000688   0.012823    3.451072         0.0   Nov                 2   \n",
      "3     0.008333   0.026389   36.672294         0.0   Aug                 2   \n",
      "4     0.006632   0.013528   10.150644         0.0   Aug                 2   \n",
      "\n",
      "   Browser  Region  TrafficType        VisitorType  Weekend  Revenue  \n",
      "0        8       6           11  Returning_Visitor    False    False  \n",
      "1        2       3            2  Returning_Visitor    False     True  \n",
      "2        2       2            2  Returning_Visitor    False    False  \n",
      "3        5       7            4  Returning_Visitor    False    False  \n",
      "4        2       3            1  Returning_Visitor     True    False  \n"
     ]
    }
   ],
   "source": [
    "# get data\n",
    "df = pd.read_csv(\"/Users/nolanpestano/Documents/GitHub/IT3040/Project1-nrpw88/shopping.csv\") # absoluet path bc im lazy\n",
    "\n",
    "print(df.head())"
   ]
  },
  {
   "cell_type": "code",
   "execution_count": null,
   "metadata": {},
   "outputs": [],
   "source": [
    "# transformations from last proj"
   ]
  }
 ],
 "metadata": {
  "kernelspec": {
   "display_name": "base",
   "language": "python",
   "name": "python3"
  },
  "language_info": {
   "codemirror_mode": {
    "name": "ipython",
    "version": 3
   },
   "file_extension": ".py",
   "mimetype": "text/x-python",
   "name": "python",
   "nbconvert_exporter": "python",
   "pygments_lexer": "ipython3",
   "version": "3.11.5"
  }
 },
 "nbformat": 4,
 "nbformat_minor": 2
}
