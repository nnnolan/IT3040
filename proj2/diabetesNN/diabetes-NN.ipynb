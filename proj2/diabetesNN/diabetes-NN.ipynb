{
 "cells": [
  {
   "cell_type": "code",
   "execution_count": 1,
   "id": "0c7e719d-da62-4db0-b719-275ba023566e",
   "metadata": {},
   "outputs": [
    {
     "name": "stderr",
     "output_type": "stream",
     "text": [
      "2023-10-30 10:39:36.746809: I tensorflow/core/platform/cpu_feature_guard.cc:182] This TensorFlow binary is optimized to use available CPU instructions in performance-critical operations.\n",
      "To enable the following instructions: AVX2 FMA, in other operations, rebuild TensorFlow with the appropriate compiler flags.\n"
     ]
    }
   ],
   "source": [
    "# Visualize training history\n",
    "import matplotlib.pyplot as plt\n",
    "import numpy as np\n",
    "import tensorflow as tf\n",
    "from tensorflow.keras.models import Sequential\n",
    "from tensorflow.keras.layers import Dense\n",
    "from sklearn.preprocessing import StandardScaler\n",
    "from sklearn.model_selection import train_test_split\n",
    "from tensorflow.keras.regularizers import l2\n",
    "import math"
   ]
  },
  {
   "cell_type": "code",
   "execution_count": 2,
   "id": "84c25759-c5a2-4653-a3d3-368d4067bfe4",
   "metadata": {},
   "outputs": [],
   "source": [
    "def sigmoid(z):\n",
    "    \n",
    "    g = 1 / (1 + math.e**-z)\n",
    "    \n",
    "    return g"
   ]
  },
  {
   "cell_type": "code",
   "execution_count": 3,
   "id": "86e8299d-30da-448e-b5b4-6c5489509c0b",
   "metadata": {},
   "outputs": [],
   "source": [
    "def calculate_accuracy(labels, predictions):\n",
    "    \n",
    "    # Calculate the number of correct predictions by comparing 'labels' and 'predictions'\n",
    "    correct_predictions = np.sum(labels == predictions)\n",
    "    \n",
    "    # Calculate the total number of predictions\n",
    "    total_predictions = len(labels)\n",
    "    \n",
    "    # Calculate the accuracy as a percentage\n",
    "    accuracy_percentage = (correct_predictions / total_predictions) * 100.0\n",
    "    \n",
    "    print(f\"Accuracy: {accuracy_percentage:.2f}%\")"
   ]
  },
  {
   "cell_type": "code",
   "execution_count": 12,
   "id": "ff77778c-3d27-4b29-97f9-dd6bc758c6f6",
   "metadata": {},
   "outputs": [
    {
     "name": "stdout",
     "output_type": "stream",
     "text": [
      "X shape: (768, 8)\n",
      "y shape: (768,)\n",
      "[ 0.63994726  0.84832379  0.14964075  0.90726993 -0.69289057  0.20401277\n",
      "  0.46849198  1.4259954 ]\n"
     ]
    }
   ],
   "source": [
    "#load the dataset\n",
    "dataset = np.loadtxt(\"pima-indians-diabetes.csv\", delimiter=\",\")\n",
    "\n",
    "#split data set in to X, y variables\n",
    "features = dataset[:,0:8]\n",
    "y = dataset[:,8]\n",
    "\n",
    "#create Scaler object\n",
    "scaler = StandardScaler()\n",
    "\n",
    "#scale the features\n",
    "X = scaler.fit_transform(features)\n",
    "\n",
    "print(f\"X shape: {X.shape}\")\n",
    "print(f\"y shape: {y.shape}\")\n",
    "\n",
    "#look at the first X row\n",
    "print(X[0])\n"
   ]
  },
  {
   "cell_type": "code",
   "execution_count": null,
   "id": "f8f7849d-ab50-49bc-9a84-2826fb111eb7",
   "metadata": {},
   "outputs": [],
   "source": []
  }
 ],
 "metadata": {
  "kernelspec": {
   "display_name": "Python 3 (ipykernel)",
   "language": "python",
   "name": "python3"
  },
  "language_info": {
   "codemirror_mode": {
    "name": "ipython",
    "version": 3
   },
   "file_extension": ".py",
   "mimetype": "text/x-python",
   "name": "python",
   "nbconvert_exporter": "python",
   "pygments_lexer": "ipython3",
   "version": "3.11.4"
  }
 },
 "nbformat": 4,
 "nbformat_minor": 5
}
