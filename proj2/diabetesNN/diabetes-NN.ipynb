{
 "cells": [
  {
   "cell_type": "code",
   "execution_count": 2,
   "id": "0c7e719d-da62-4db0-b719-275ba023566e",
   "metadata": {},
   "outputs": [],
   "source": [
    "# Visualize training history\n",
    "import matplotlib.pyplot as plt\n",
    "import numpy as np\n",
    "import tensorflow as tf\n",
    "from tensorflow.keras.models import Sequential\n",
    "from tensorflow.keras.layers import Dense\n",
    "from sklearn.preprocessing import StandardScaler\n",
    "from sklearn.model_selection import train_test_split\n",
    "from tensorflow.keras.regularizers import l2\n",
    "import mlxtend as mlx\n",
    "\n",
    "import math\n",
    "\n",
    "from mlxtend.plotting import plot_confusion_matrix\n",
    "from sklearn.metrics import precision_score, recall_score, f1_score\n",
    "from sklearn.metrics import confusion_matrix"
   ]
  },
  {
   "cell_type": "code",
   "execution_count": 3,
   "id": "84c25759-c5a2-4653-a3d3-368d4067bfe4",
   "metadata": {},
   "outputs": [],
   "source": [
    "def sigmoid(z):\n",
    "    \n",
    "    g = 1 / (1 + math.e**-z)\n",
    "    \n",
    "    return g"
   ]
  },
  {
   "cell_type": "code",
   "execution_count": 4,
   "id": "86e8299d-30da-448e-b5b4-6c5489509c0b",
   "metadata": {},
   "outputs": [],
   "source": [
    "def calculate_accuracy(labels, predictions):\n",
    "    \n",
    "    # Calculate the number of correct predictions by comparing 'labels' and 'predictions'\n",
    "    correct_predictions = np.sum(labels == predictions)\n",
    "    \n",
    "    # Calculate the total number of predictions\n",
    "    total_predictions = len(labels)\n",
    "    \n",
    "    # Calculate the accuracy as a percentage\n",
    "    accuracy_percentage = (correct_predictions / total_predictions) * 100.0\n",
    "    \n",
    "    print(f\"Accuracy: {accuracy_percentage:.2f}%\")"
   ]
  },
  {
   "cell_type": "code",
   "execution_count": 5,
   "id": "ff77778c-3d27-4b29-97f9-dd6bc758c6f6",
   "metadata": {},
   "outputs": [
    {
     "name": "stdout",
     "output_type": "stream",
     "text": [
      "X shape: (768, 8)\n",
      "y shape: (768,)\n",
      "[ 0.63994726  0.84832379  0.14964075  0.90726993 -0.69289057  0.20401277\n",
      "  0.46849198  1.4259954 ]\n"
     ]
    }
   ],
   "source": [
    "#load the dataset\n",
    "dataset = np.loadtxt(\"pima-indians-diabetes.csv\", delimiter=\",\")\n",
    "\n",
    "#split data set in to X, y variables\n",
    "features = dataset[:,0:8]\n",
    "y = dataset[:,8]\n",
    "\n",
    "#create Scaler object\n",
    "scaler = StandardScaler()\n",
    "\n",
    "#scale the features\n",
    "X = scaler.fit_transform(features)\n",
    "\n",
    "print(f\"X shape: {X.shape}\")\n",
    "print(f\"y shape: {y.shape}\")\n",
    "\n",
    "#look at the first X row\n",
    "print(X[0])\n",
    "\n"
   ]
  },
  {
   "cell_type": "code",
   "execution_count": 6,
   "id": "f8f7849d-ab50-49bc-9a84-2826fb111eb7",
   "metadata": {},
   "outputs": [
    {
     "name": "stdout",
     "output_type": "stream",
     "text": [
      "X_train shape: (460, 8)\n",
      "X_test shape: (154, 8)\n",
      "X_cv shape: (154, 8)\n",
      "y_train shape: (460,)\n",
      "y_test shape: (154,)\n",
      "y_cv shape: (154,)\n"
     ]
    }
   ],
   "source": [
    "\n",
    "X_train, X_test, y_train, y_test = train_test_split(X, y, test_size = 0.4, random_state = 42)\n",
    "\n",
    "# split the test at 50:50 for cross validation and the test\n",
    "X_test, X_cv, y_test, y_cv = train_test_split(X_test, y_test, test_size = 0.5, random_state = 42)\n",
    "\n",
    "#print the shapes \n",
    "# 460, 154, 154\n",
    "print(f\"X_train shape: {X_train.shape}\")\n",
    "print(f\"X_test shape: {X_test.shape}\")\n",
    "print(f\"X_cv shape: {X_cv.shape}\")\n",
    "\n",
    "# 460, 154 154\n",
    "print(f\"y_train shape: {y_train.shape}\")\n",
    "print(f\"y_test shape: {y_test.shape}\")\n",
    "print(f\"y_cv shape: {y_cv.shape}\")"
   ]
  },
  {
   "cell_type": "code",
   "execution_count": 7,
   "id": "e5641b7c",
   "metadata": {},
   "outputs": [
    {
     "name": "stdout",
     "output_type": "stream",
     "text": [
      "Model: \"sequential\"\n",
      "_________________________________________________________________\n",
      " Layer (type)                Output Shape              Param #   \n",
      "=================================================================\n",
      " dense (Dense)               (None, 12)                108       \n",
      "                                                                 \n",
      " dense_1 (Dense)             (None, 8)                 104       \n",
      "                                                                 \n",
      " dense_2 (Dense)             (None, 1)                 9         \n",
      "                                                                 \n",
      "=================================================================\n",
      "Total params: 221 (884.00 Byte)\n",
      "Trainable params: 221 (884.00 Byte)\n",
      "Non-trainable params: 0 (0.00 Byte)\n",
      "_________________________________________________________________\n"
     ]
    },
    {
     "name": "stderr",
     "output_type": "stream",
     "text": [
      "WARNING:absl:At this time, the v2.11+ optimizer `tf.keras.optimizers.Adam` runs slowly on M1/M2 Macs, please use the legacy Keras optimizer instead, located at `tf.keras.optimizers.legacy.Adam`.\n",
      "WARNING:absl:There is a known slowdown when using v2.11+ Keras optimizers on M1/M2 Macs. Falling back to the legacy Keras optimizer, i.e., `tf.keras.optimizers.legacy.Adam`.\n"
     ]
    },
    {
     "name": "stdout",
     "output_type": "stream",
     "text": [
      "None\n",
      "Epoch 1/100\n",
      "15/15 [==============================] - 0s 6ms/step - loss: 0.6603 - accuracy: 0.6391 - val_loss: 0.6520 - val_accuracy: 0.6623\n",
      "Epoch 2/100\n",
      "15/15 [==============================] - 0s 1ms/step - loss: 0.6592 - accuracy: 0.6391 - val_loss: 0.6502 - val_accuracy: 0.6623\n",
      "Epoch 3/100\n",
      "15/15 [==============================] - 0s 1ms/step - loss: 0.6580 - accuracy: 0.6391 - val_loss: 0.6489 - val_accuracy: 0.6623\n",
      "Epoch 4/100\n",
      "15/15 [==============================] - 0s 1ms/step - loss: 0.6570 - accuracy: 0.6391 - val_loss: 0.6476 - val_accuracy: 0.6623\n",
      "Epoch 5/100\n",
      "15/15 [==============================] - 0s 1ms/step - loss: 0.6562 - accuracy: 0.6391 - val_loss: 0.6464 - val_accuracy: 0.6623\n",
      "Epoch 6/100\n",
      "15/15 [==============================] - 0s 1ms/step - loss: 0.6552 - accuracy: 0.6391 - val_loss: 0.6455 - val_accuracy: 0.6623\n",
      "Epoch 7/100\n",
      "15/15 [==============================] - 0s 1ms/step - loss: 0.6545 - accuracy: 0.6391 - val_loss: 0.6444 - val_accuracy: 0.6623\n",
      "Epoch 8/100\n",
      "15/15 [==============================] - 0s 1ms/step - loss: 0.6537 - accuracy: 0.6391 - val_loss: 0.6436 - val_accuracy: 0.6623\n",
      "Epoch 9/100\n",
      "15/15 [==============================] - 0s 1ms/step - loss: 0.6530 - accuracy: 0.6391 - val_loss: 0.6428 - val_accuracy: 0.6623\n",
      "Epoch 10/100\n",
      "15/15 [==============================] - 0s 1ms/step - loss: 0.6522 - accuracy: 0.6391 - val_loss: 0.6418 - val_accuracy: 0.6623\n",
      "Epoch 11/100\n",
      "15/15 [==============================] - 0s 1ms/step - loss: 0.6513 - accuracy: 0.6391 - val_loss: 0.6407 - val_accuracy: 0.6623\n",
      "Epoch 12/100\n",
      "15/15 [==============================] - 0s 3ms/step - loss: 0.6505 - accuracy: 0.6391 - val_loss: 0.6397 - val_accuracy: 0.6623\n",
      "Epoch 13/100\n",
      "15/15 [==============================] - 0s 1ms/step - loss: 0.6495 - accuracy: 0.6391 - val_loss: 0.6386 - val_accuracy: 0.6623\n",
      "Epoch 14/100\n",
      "15/15 [==============================] - 0s 1ms/step - loss: 0.6486 - accuracy: 0.6391 - val_loss: 0.6376 - val_accuracy: 0.6623\n",
      "Epoch 15/100\n",
      "15/15 [==============================] - 0s 1ms/step - loss: 0.6476 - accuracy: 0.6391 - val_loss: 0.6366 - val_accuracy: 0.6623\n",
      "Epoch 16/100\n",
      "15/15 [==============================] - 0s 1ms/step - loss: 0.6465 - accuracy: 0.6391 - val_loss: 0.6355 - val_accuracy: 0.6623\n",
      "Epoch 17/100\n",
      "15/15 [==============================] - 0s 1ms/step - loss: 0.6454 - accuracy: 0.6391 - val_loss: 0.6345 - val_accuracy: 0.6623\n",
      "Epoch 18/100\n",
      "15/15 [==============================] - 0s 1ms/step - loss: 0.6441 - accuracy: 0.6391 - val_loss: 0.6331 - val_accuracy: 0.6623\n",
      "Epoch 19/100\n",
      "15/15 [==============================] - 0s 1ms/step - loss: 0.6427 - accuracy: 0.6391 - val_loss: 0.6318 - val_accuracy: 0.6623\n",
      "Epoch 20/100\n",
      "15/15 [==============================] - 0s 1ms/step - loss: 0.6412 - accuracy: 0.6391 - val_loss: 0.6303 - val_accuracy: 0.6623\n",
      "Epoch 21/100\n",
      "15/15 [==============================] - 0s 1ms/step - loss: 0.6397 - accuracy: 0.6391 - val_loss: 0.6287 - val_accuracy: 0.6623\n",
      "Epoch 22/100\n",
      "15/15 [==============================] - 0s 1ms/step - loss: 0.6381 - accuracy: 0.6391 - val_loss: 0.6273 - val_accuracy: 0.6623\n",
      "Epoch 23/100\n",
      "15/15 [==============================] - 0s 1ms/step - loss: 0.6361 - accuracy: 0.6391 - val_loss: 0.6254 - val_accuracy: 0.6623\n",
      "Epoch 24/100\n",
      "15/15 [==============================] - 0s 1ms/step - loss: 0.6341 - accuracy: 0.6391 - val_loss: 0.6236 - val_accuracy: 0.6623\n",
      "Epoch 25/100\n",
      "15/15 [==============================] - 0s 1ms/step - loss: 0.6320 - accuracy: 0.6391 - val_loss: 0.6218 - val_accuracy: 0.6623\n",
      "Epoch 26/100\n",
      "15/15 [==============================] - 0s 1ms/step - loss: 0.6296 - accuracy: 0.6391 - val_loss: 0.6195 - val_accuracy: 0.6623\n",
      "Epoch 27/100\n",
      "15/15 [==============================] - 0s 1ms/step - loss: 0.6271 - accuracy: 0.6391 - val_loss: 0.6173 - val_accuracy: 0.6623\n",
      "Epoch 28/100\n",
      "15/15 [==============================] - 0s 1ms/step - loss: 0.6245 - accuracy: 0.6391 - val_loss: 0.6149 - val_accuracy: 0.6623\n",
      "Epoch 29/100\n",
      "15/15 [==============================] - 0s 1ms/step - loss: 0.6216 - accuracy: 0.6391 - val_loss: 0.6124 - val_accuracy: 0.6623\n",
      "Epoch 30/100\n",
      "15/15 [==============================] - 0s 1ms/step - loss: 0.6188 - accuracy: 0.6391 - val_loss: 0.6096 - val_accuracy: 0.6623\n",
      "Epoch 31/100\n",
      "15/15 [==============================] - 0s 1ms/step - loss: 0.6157 - accuracy: 0.6391 - val_loss: 0.6072 - val_accuracy: 0.6623\n",
      "Epoch 32/100\n",
      "15/15 [==============================] - 0s 1ms/step - loss: 0.6125 - accuracy: 0.6391 - val_loss: 0.6045 - val_accuracy: 0.6623\n",
      "Epoch 33/100\n",
      "15/15 [==============================] - 0s 1ms/step - loss: 0.6093 - accuracy: 0.6391 - val_loss: 0.6016 - val_accuracy: 0.6623\n",
      "Epoch 34/100\n",
      "15/15 [==============================] - 0s 1ms/step - loss: 0.6057 - accuracy: 0.6391 - val_loss: 0.5986 - val_accuracy: 0.6623\n",
      "Epoch 35/100\n",
      "15/15 [==============================] - 0s 1ms/step - loss: 0.6024 - accuracy: 0.6391 - val_loss: 0.5956 - val_accuracy: 0.6623\n",
      "Epoch 36/100\n",
      "15/15 [==============================] - 0s 1ms/step - loss: 0.5988 - accuracy: 0.6391 - val_loss: 0.5925 - val_accuracy: 0.6623\n",
      "Epoch 37/100\n",
      "15/15 [==============================] - 0s 3ms/step - loss: 0.5953 - accuracy: 0.6391 - val_loss: 0.5895 - val_accuracy: 0.6623\n",
      "Epoch 38/100\n",
      "15/15 [==============================] - 0s 1ms/step - loss: 0.5918 - accuracy: 0.6391 - val_loss: 0.5864 - val_accuracy: 0.6623\n",
      "Epoch 39/100\n",
      "15/15 [==============================] - 0s 1ms/step - loss: 0.5882 - accuracy: 0.6391 - val_loss: 0.5833 - val_accuracy: 0.6623\n",
      "Epoch 40/100\n",
      "15/15 [==============================] - 0s 1ms/step - loss: 0.5845 - accuracy: 0.6391 - val_loss: 0.5803 - val_accuracy: 0.6623\n",
      "Epoch 41/100\n",
      "15/15 [==============================] - 0s 1ms/step - loss: 0.5809 - accuracy: 0.6391 - val_loss: 0.5770 - val_accuracy: 0.6623\n",
      "Epoch 42/100\n",
      "15/15 [==============================] - 0s 1ms/step - loss: 0.5773 - accuracy: 0.6391 - val_loss: 0.5740 - val_accuracy: 0.6623\n",
      "Epoch 43/100\n",
      "15/15 [==============================] - 0s 1ms/step - loss: 0.5737 - accuracy: 0.6391 - val_loss: 0.5710 - val_accuracy: 0.6623\n",
      "Epoch 44/100\n",
      "15/15 [==============================] - 0s 1ms/step - loss: 0.5699 - accuracy: 0.6391 - val_loss: 0.5681 - val_accuracy: 0.6623\n",
      "Epoch 45/100\n",
      "15/15 [==============================] - 0s 1ms/step - loss: 0.5664 - accuracy: 0.6391 - val_loss: 0.5653 - val_accuracy: 0.6623\n",
      "Epoch 46/100\n",
      "15/15 [==============================] - 0s 1ms/step - loss: 0.5631 - accuracy: 0.6391 - val_loss: 0.5624 - val_accuracy: 0.6623\n",
      "Epoch 47/100\n",
      "15/15 [==============================] - 0s 1ms/step - loss: 0.5596 - accuracy: 0.6391 - val_loss: 0.5592 - val_accuracy: 0.6623\n",
      "Epoch 48/100\n",
      "15/15 [==============================] - 0s 1ms/step - loss: 0.5561 - accuracy: 0.6391 - val_loss: 0.5565 - val_accuracy: 0.6623\n",
      "Epoch 49/100\n",
      "15/15 [==============================] - 0s 1ms/step - loss: 0.5529 - accuracy: 0.6391 - val_loss: 0.5541 - val_accuracy: 0.6623\n",
      "Epoch 50/100\n",
      "15/15 [==============================] - 0s 1ms/step - loss: 0.5497 - accuracy: 0.6391 - val_loss: 0.5513 - val_accuracy: 0.6623\n",
      "Epoch 51/100\n",
      "15/15 [==============================] - 0s 1ms/step - loss: 0.5465 - accuracy: 0.6391 - val_loss: 0.5488 - val_accuracy: 0.6623\n",
      "Epoch 52/100\n",
      "15/15 [==============================] - 0s 1ms/step - loss: 0.5433 - accuracy: 0.6391 - val_loss: 0.5465 - val_accuracy: 0.6623\n",
      "Epoch 53/100\n",
      "15/15 [==============================] - 0s 1ms/step - loss: 0.5404 - accuracy: 0.6391 - val_loss: 0.5435 - val_accuracy: 0.6623\n",
      "Epoch 54/100\n",
      "15/15 [==============================] - 0s 1ms/step - loss: 0.5374 - accuracy: 0.6391 - val_loss: 0.5414 - val_accuracy: 0.6623\n",
      "Epoch 55/100\n",
      "15/15 [==============================] - 0s 1ms/step - loss: 0.5345 - accuracy: 0.6391 - val_loss: 0.5388 - val_accuracy: 0.6623\n",
      "Epoch 56/100\n",
      "15/15 [==============================] - 0s 1ms/step - loss: 0.5318 - accuracy: 0.6391 - val_loss: 0.5360 - val_accuracy: 0.6623\n",
      "Epoch 57/100\n",
      "15/15 [==============================] - 0s 1ms/step - loss: 0.5291 - accuracy: 0.6391 - val_loss: 0.5338 - val_accuracy: 0.6623\n",
      "Epoch 58/100\n",
      "15/15 [==============================] - 0s 1ms/step - loss: 0.5266 - accuracy: 0.6391 - val_loss: 0.5317 - val_accuracy: 0.6623\n",
      "Epoch 59/100\n",
      "15/15 [==============================] - 0s 1ms/step - loss: 0.5241 - accuracy: 0.6391 - val_loss: 0.5293 - val_accuracy: 0.6623\n",
      "Epoch 60/100\n",
      "15/15 [==============================] - 0s 1ms/step - loss: 0.5215 - accuracy: 0.6391 - val_loss: 0.5272 - val_accuracy: 0.6623\n",
      "Epoch 61/100\n",
      "15/15 [==============================] - 0s 1ms/step - loss: 0.5194 - accuracy: 0.6391 - val_loss: 0.5251 - val_accuracy: 0.6623\n",
      "Epoch 62/100\n",
      "15/15 [==============================] - 0s 3ms/step - loss: 0.5169 - accuracy: 0.6391 - val_loss: 0.5228 - val_accuracy: 0.6623\n",
      "Epoch 63/100\n",
      "15/15 [==============================] - 0s 1ms/step - loss: 0.5148 - accuracy: 0.6391 - val_loss: 0.5212 - val_accuracy: 0.6623\n",
      "Epoch 64/100\n",
      "15/15 [==============================] - 0s 1ms/step - loss: 0.5127 - accuracy: 0.6391 - val_loss: 0.5192 - val_accuracy: 0.6623\n",
      "Epoch 65/100\n",
      "15/15 [==============================] - 0s 1ms/step - loss: 0.5107 - accuracy: 0.6391 - val_loss: 0.5174 - val_accuracy: 0.6623\n",
      "Epoch 66/100\n",
      "15/15 [==============================] - 0s 1ms/step - loss: 0.5087 - accuracy: 0.6391 - val_loss: 0.5155 - val_accuracy: 0.6623\n",
      "Epoch 67/100\n",
      "15/15 [==============================] - 0s 1ms/step - loss: 0.5068 - accuracy: 0.6391 - val_loss: 0.5142 - val_accuracy: 0.6688\n",
      "Epoch 68/100\n",
      "15/15 [==============================] - 0s 1ms/step - loss: 0.5049 - accuracy: 0.6565 - val_loss: 0.5122 - val_accuracy: 0.6883\n",
      "Epoch 69/100\n",
      "15/15 [==============================] - 0s 1ms/step - loss: 0.5033 - accuracy: 0.6848 - val_loss: 0.5106 - val_accuracy: 0.6883\n",
      "Epoch 70/100\n",
      "15/15 [==============================] - 0s 1ms/step - loss: 0.5015 - accuracy: 0.6891 - val_loss: 0.5097 - val_accuracy: 0.7143\n",
      "Epoch 71/100\n",
      "15/15 [==============================] - 0s 1ms/step - loss: 0.4998 - accuracy: 0.6978 - val_loss: 0.5085 - val_accuracy: 0.7143\n",
      "Epoch 72/100\n",
      "15/15 [==============================] - 0s 1ms/step - loss: 0.4982 - accuracy: 0.7043 - val_loss: 0.5069 - val_accuracy: 0.7208\n",
      "Epoch 73/100\n",
      "15/15 [==============================] - 0s 1ms/step - loss: 0.4967 - accuracy: 0.7109 - val_loss: 0.5052 - val_accuracy: 0.7208\n",
      "Epoch 74/100\n",
      "15/15 [==============================] - 0s 1ms/step - loss: 0.4952 - accuracy: 0.7196 - val_loss: 0.5042 - val_accuracy: 0.7273\n",
      "Epoch 75/100\n",
      "15/15 [==============================] - 0s 1ms/step - loss: 0.4936 - accuracy: 0.7239 - val_loss: 0.5027 - val_accuracy: 0.7338\n",
      "Epoch 76/100\n",
      "15/15 [==============================] - 0s 1ms/step - loss: 0.4923 - accuracy: 0.7261 - val_loss: 0.5016 - val_accuracy: 0.7403\n",
      "Epoch 77/100\n",
      "15/15 [==============================] - 0s 1ms/step - loss: 0.4909 - accuracy: 0.7370 - val_loss: 0.5005 - val_accuracy: 0.7597\n",
      "Epoch 78/100\n",
      "15/15 [==============================] - 0s 1ms/step - loss: 0.4898 - accuracy: 0.7522 - val_loss: 0.4990 - val_accuracy: 0.7597\n",
      "Epoch 79/100\n",
      "15/15 [==============================] - 0s 1ms/step - loss: 0.4884 - accuracy: 0.7522 - val_loss: 0.4981 - val_accuracy: 0.7532\n",
      "Epoch 80/100\n",
      "15/15 [==============================] - 0s 1ms/step - loss: 0.4872 - accuracy: 0.7587 - val_loss: 0.4973 - val_accuracy: 0.7468\n",
      "Epoch 81/100\n",
      "15/15 [==============================] - 0s 1ms/step - loss: 0.4859 - accuracy: 0.7587 - val_loss: 0.4964 - val_accuracy: 0.7532\n",
      "Epoch 82/100\n",
      "15/15 [==============================] - 0s 1ms/step - loss: 0.4849 - accuracy: 0.7587 - val_loss: 0.4954 - val_accuracy: 0.7532\n",
      "Epoch 83/100\n",
      "15/15 [==============================] - 0s 1ms/step - loss: 0.4839 - accuracy: 0.7630 - val_loss: 0.4938 - val_accuracy: 0.7532\n",
      "Epoch 84/100\n",
      "15/15 [==============================] - 0s 1ms/step - loss: 0.4826 - accuracy: 0.7674 - val_loss: 0.4929 - val_accuracy: 0.7662\n",
      "Epoch 85/100\n",
      "15/15 [==============================] - 0s 1ms/step - loss: 0.4814 - accuracy: 0.7717 - val_loss: 0.4923 - val_accuracy: 0.7727\n",
      "Epoch 86/100\n",
      "15/15 [==============================] - 0s 1ms/step - loss: 0.4805 - accuracy: 0.7761 - val_loss: 0.4912 - val_accuracy: 0.7727\n",
      "Epoch 87/100\n",
      "15/15 [==============================] - 0s 3ms/step - loss: 0.4792 - accuracy: 0.7761 - val_loss: 0.4902 - val_accuracy: 0.7727\n",
      "Epoch 88/100\n",
      "15/15 [==============================] - 0s 1ms/step - loss: 0.4785 - accuracy: 0.7761 - val_loss: 0.4892 - val_accuracy: 0.7792\n",
      "Epoch 89/100\n",
      "15/15 [==============================] - 0s 1ms/step - loss: 0.4774 - accuracy: 0.7761 - val_loss: 0.4885 - val_accuracy: 0.7792\n",
      "Epoch 90/100\n",
      "15/15 [==============================] - 0s 1ms/step - loss: 0.4766 - accuracy: 0.7739 - val_loss: 0.4878 - val_accuracy: 0.7792\n",
      "Epoch 91/100\n",
      "15/15 [==============================] - 0s 1ms/step - loss: 0.4755 - accuracy: 0.7761 - val_loss: 0.4874 - val_accuracy: 0.7792\n",
      "Epoch 92/100\n",
      "15/15 [==============================] - 0s 1ms/step - loss: 0.4746 - accuracy: 0.7783 - val_loss: 0.4866 - val_accuracy: 0.7792\n",
      "Epoch 93/100\n",
      "15/15 [==============================] - 0s 1ms/step - loss: 0.4737 - accuracy: 0.7804 - val_loss: 0.4858 - val_accuracy: 0.7922\n",
      "Epoch 94/100\n",
      "15/15 [==============================] - 0s 1ms/step - loss: 0.4728 - accuracy: 0.7783 - val_loss: 0.4850 - val_accuracy: 0.7922\n",
      "Epoch 95/100\n",
      "15/15 [==============================] - 0s 1ms/step - loss: 0.4720 - accuracy: 0.7804 - val_loss: 0.4844 - val_accuracy: 0.7987\n",
      "Epoch 96/100\n",
      "15/15 [==============================] - 0s 1ms/step - loss: 0.4711 - accuracy: 0.7870 - val_loss: 0.4849 - val_accuracy: 0.7987\n",
      "Epoch 97/100\n",
      "15/15 [==============================] - 0s 1ms/step - loss: 0.4702 - accuracy: 0.7848 - val_loss: 0.4848 - val_accuracy: 0.7922\n",
      "Epoch 98/100\n",
      "15/15 [==============================] - 0s 1ms/step - loss: 0.4693 - accuracy: 0.7870 - val_loss: 0.4841 - val_accuracy: 0.7857\n",
      "Epoch 99/100\n",
      "15/15 [==============================] - 0s 1ms/step - loss: 0.4688 - accuracy: 0.7870 - val_loss: 0.4838 - val_accuracy: 0.7857\n",
      "Epoch 100/100\n",
      "15/15 [==============================] - 0s 1ms/step - loss: 0.4678 - accuracy: 0.7870 - val_loss: 0.4827 - val_accuracy: 0.7922\n",
      "dict_keys(['loss', 'accuracy', 'val_loss', 'val_accuracy'])\n"
     ]
    }
   ],
   "source": [
    "# create the actual model \n",
    "model = Sequential([\n",
    "    tf.keras.Input(shape=(8,)),\n",
    "    Dense(12, activation=\"softmax\", kernel_regularizer=l2(0.0)),\n",
    "    Dense(8, activation=\"softmax\", kernel_regularizer=l2(0.0)),\n",
    "    Dense(1, activation='linear')\n",
    "])\n",
    "\n",
    "print(model.summary())\n",
    "\n",
    "# compile the model\n",
    "model.compile(\n",
    "    loss = tf.keras.losses.BinaryCrossentropy(from_logits=True),\n",
    "    optimizer = tf.keras.optimizers.Adam(0.001),\n",
    "    metrics = [\"accuracy\"]\n",
    ")\n",
    "\n",
    "# fit the model\n",
    "history = model.fit(\n",
    "    X_train, y_train,\n",
    "    validation_data = (X_cv, y_cv),\n",
    "    epochs = 100\n",
    ")\n",
    "\n",
    "# history data\n",
    "print(history.history.keys())"
   ]
  },
  {
   "cell_type": "code",
   "execution_count": 8,
   "id": "e041df1a",
   "metadata": {},
   "outputs": [
    {
     "data": {
      "text/plain": [
       "<matplotlib.legend.Legend at 0x2d3869790>"
      ]
     },
     "execution_count": 8,
     "metadata": {},
     "output_type": "execute_result"
    },
    {
     "data": {
      "image/png": "[encoded data removed]",
      "text/plain": [
       "<Figure size 640x480 with 1 Axes>"
      ]
     },
     "metadata": {},
     "output_type": "display_data"
    }
   ],
   "source": [
    "# summary for loss\n",
    "plt.plot(history.history[\"loss\"])\n",
    "plt.plot(history.history[\"val_loss\"])\n",
    "plt.title(\"Model Loss\")\n",
    "plt.ylabel(\"Loss\")\n",
    "plt.xlabel(\"Epoch\")\n",
    "plt.legend([\"Train\", \"Validation\"], loc=\"upper left\")"
   ]
  },
  {
   "cell_type": "code",
   "execution_count": 9,
   "id": "46cfa132",
   "metadata": {},
   "outputs": [],
   "source": [
    "# function to make predicitons\n",
    "def get_predictions(feature_data):\n",
    "    \n",
    "    # run the feature data through the trained model\n",
    "    \n",
    "    logits = model(feature_data)\n",
    "    \n",
    "    # apply sigmoid (0 - > 1)\n",
    "    logits = sigmoid(logits)\n",
    "    \n",
    "    # get the prediction probs\n",
    "    predictions = logits >= 0.5\n",
    "    \n",
    "    # sneaky trick to make everything an integer, 0 or 1 from the line above\n",
    "    predictions = [int(boolean) for boolean in predictions]\n",
    "    \n",
    "    return predictions"
   ]
  },
  {
   "cell_type": "code",
   "execution_count": 10,
   "id": "f33aa7cb",
   "metadata": {},
   "outputs": [
    {
     "name": "stdout",
     "output_type": "stream",
     "text": [
      "[0, 0, 0, 1, 1, 0, 0, 0, 1, 0, 0, 0, 0, 0, 1, 0, 0, 1, 0, 0, 1, 0, 0, 0, 0, 1, 0, 0, 1, 1, 0, 0, 1, 0, 0, 1, 1, 1, 0, 0, 0, 0, 0, 1, 1, 1, 0, 0, 0, 0, 0, 1, 0, 1, 1, 0, 0, 0, 0, 0, 0, 1, 0, 0, 1, 1, 1, 0, 1, 1, 0, 0, 0, 1, 1, 1, 0, 0, 1, 0, 0, 0, 0, 0, 0, 1, 1, 1, 0, 1, 1, 1, 0, 0, 0, 0, 0, 0, 0, 1, 1, 0, 0, 0, 0, 0, 0, 1, 1, 0, 1, 0, 0, 0, 0, 0, 0, 0, 1, 1, 1, 0, 0, 0, 1, 1, 1, 1, 0, 0, 1, 0, 0, 0, 1, 0, 0, 1, 0, 1, 0, 1, 0, 0, 1, 1, 0, 0, 1, 1, 0, 0, 0, 0, 0, 0, 1, 0, 0, 0, 0, 1, 1, 1, 1, 1, 1, 0, 1, 0, 0, 0, 0, 0, 0, 1, 0, 1, 1, 0, 0, 1, 0, 1, 0, 1, 1, 0, 1, 0, 0, 0, 1, 0, 1, 1, 1, 0, 1, 1, 1, 0, 0, 0, 1, 0, 0, 0, 0, 0, 0, 0, 1, 0, 0, 0, 1, 0, 0, 0, 0, 0, 0, 1, 0, 0, 1, 1, 0, 0, 1, 0, 1, 0, 0, 1, 0, 1, 0, 0, 0, 0, 0, 0, 0, 0, 0, 0, 0, 0, 1, 1, 0, 0, 0, 1, 0, 0, 0, 0, 0, 0, 1, 0, 0, 0, 0, 0, 0, 1, 0, 0, 1, 0, 0, 0, 1, 0, 1, 1, 0, 0, 1, 0, 1, 0, 0, 0, 0, 0, 1, 0, 1, 0, 1, 0, 0, 0, 1, 1, 0, 0, 0, 0, 0, 0, 0, 0, 1, 1, 1, 0, 0, 0, 1, 0, 0, 1, 0, 0, 1, 0, 0, 0, 1, 1, 0, 0, 0, 0, 0, 0, 1, 0, 0, 0, 0, 1, 1, 0, 1, 1, 0, 0, 0, 0, 0, 0, 0, 0, 0, 1, 1, 1, 1, 0, 0, 1, 1, 1, 0, 0, 0, 1, 0, 0, 0, 0, 1, 0, 1, 0, 0, 1, 0, 0, 0, 1, 0, 0, 1, 0, 1, 1, 0, 0, 0, 0, 0, 0, 0, 0, 0, 1, 0, 0, 0, 0, 1, 0, 0, 0, 1, 0, 1, 0, 1, 0, 0, 0, 0, 1, 1, 1, 1, 1, 0, 1, 0, 0, 0, 0, 1, 0, 1, 0, 1, 0, 0, 0, 0, 0, 0, 1, 0, 0, 0, 0, 0, 1, 0, 1, 1, 1, 1, 0, 0, 1, 1, 0, 0, 0, 1, 1, 0, 0, 0, 1, 1, 0]\n"
     ]
    }
   ],
   "source": [
    "prediciton_train = get_predictions(X_train)\n",
    "print(prediciton_train)\n",
    "\n",
    "\n",
    "# module to create & disply confusion matrix\n",
    "\n",
    "def print_confusion_matrix(true_labels, predictions): \n",
    "    # plot the confusion matrix\n",
    "    \n",
    "    mat = confusion_matrix(true_labels, predictions)\n",
    "    plot_confusion_matrix(conf_mat = mat)\n",
    "    \n",
    "    # calculate precision, recall, f1 scores, and display them\n",
    "    \n",
    "    # precision\n",
    "    precision = precision_score(true_labels, predictions)\n",
    "    \n",
    "    # recall\n",
    "    recall = recall_score(true_labels, predictions)\n",
    "    \n",
    "    # f1 score\n",
    "    f1 = f1_score(true_labels, predictions)\n",
    "    \n",
    "    # display precision, recall, and f1\n",
    "    print(f\"Precision = {precision:.4f}, \\n Recall = {recall:.4f}, \\n F1 = {f1:.4f}\")\n"
   ]
  },
  {
   "cell_type": "code",
   "execution_count": 11,
   "id": "2d093e8d",
   "metadata": {},
   "outputs": [
    {
     "name": "stdout",
     "output_type": "stream",
     "text": [
      "Accuracy: 77.61%\n"
     ]
    }
   ],
   "source": [
    "# calculate training accuracy\n",
    "\n",
    "calculate_accuracy(y_train, prediciton_train)"
   ]
  },
  {
   "cell_type": "code",
   "execution_count": 12,
   "id": "32b87416",
   "metadata": {},
   "outputs": [
    {
     "name": "stdout",
     "output_type": "stream",
     "text": [
      "Precision = 0.6981, \n",
      " Recall = 0.6687, \n",
      " F1 = 0.6831\n"
     ]
    },
    {
     "data": {
      "image/png": "[encoded data removed]",
      "text/plain": [
       "<Figure size 640x480 with 1 Axes>"
      ]
     },
     "metadata": {},
     "output_type": "display_data"
    }
   ],
   "source": [
    "print_confusion_matrix(y_train, prediciton_train)"
   ]
  },
  {
   "cell_type": "code",
   "execution_count": 13,
   "id": "172060fe",
   "metadata": {},
   "outputs": [
    {
     "name": "stdout",
     "output_type": "stream",
     "text": [
      "Precision = 0.6667, \n",
      " Recall = 0.7308, \n",
      " F1 = 0.6972\n"
     ]
    },
    {
     "data": {
      "image/png": "[encoded data removed]",
      "text/plain": [
       "<Figure size 640x480 with 1 Axes>"
      ]
     },
     "metadata": {},
     "output_type": "display_data"
    }
   ],
   "source": [
    "print_confusion_matrix(y_cv, get_predictions(X_cv))"
   ]
  },
  {
   "cell_type": "code",
   "execution_count": 15,
   "id": "af8ec7ab",
   "metadata": {},
   "outputs": [
    {
     "name": "stdout",
     "output_type": "stream",
     "text": [
      "Evaluate on the Test Data Set\n",
      "5/5 [==============================] - 0s 813us/step - loss: 0.4766 - accuracy: 0.7727\n",
      "Test loss, Test accuracy: [0.4765841066837311, 0.7727272510528564]\n"
     ]
    }
   ],
   "source": [
    "# evaulate the model on the test set\n",
    "print(\"Evaluate on the Test Data Set\")\n",
    "results = model.evaluate(X_test, y_test, )\n",
    "print(f\"Test loss, Test accuracy: {results}\")\n"
   ]
  },
  {
   "cell_type": "code",
   "execution_count": 16,
   "id": "2fde68ab",
   "metadata": {},
   "outputs": [
    {
     "name": "stdout",
     "output_type": "stream",
     "text": [
      "Accuracy: 77.92%\n",
      "Precision = 0.6379, \n",
      " Recall = 0.7400, \n",
      " F1 = 0.6852\n"
     ]
    },
    {
     "data": {
      "image/png": "[encoded data removed]",
      "text/plain": [
       "<Figure size 640x480 with 1 Axes>"
      ]
     },
     "metadata": {},
     "output_type": "display_data"
    }
   ],
   "source": [
    "# determine the prediciton accuracy\n",
    "predictions = get_predictions(X_test)\n",
    "calculate_accuracy(y_test, predictions)\n",
    "print_confusion_matrix(y_test, predictions)"
   ]
  },
  {
   "cell_type": "code",
   "execution_count": 17,
   "id": "28ec2b87",
   "metadata": {},
   "outputs": [],
   "source": [
    "# our model and cross validation are relatively close, meaning that the model is not overfitting the data"
   ]
  },
  {
   "cell_type": "code",
   "execution_count": 18,
   "id": "8d9e969d",
   "metadata": {},
   "outputs": [],
   "source": [
    "# save the model\n",
    "model.save(\"nn_model.keras\")"
   ]
  },
  {
   "cell_type": "code",
   "execution_count": null,
   "id": "87a18212",
   "metadata": {},
   "outputs": [],
   "source": [
    "# for learning purposes\n",
    "\n",
    "# new_model = tf.keras.models.load_model(\"nn_model.keras\")\n"
   ]
  }
 ],
 "metadata": {
  "kernelspec": {
   "display_name": "base",
   "language": "python",
   "name": "python3"
  },
  "language_info": {
   "codemirror_mode": {
    "name": "ipython",
    "version": 3
   },
   "file_extension": ".py",
   "mimetype": "text/x-python",
   "name": "python",
   "nbconvert_exporter": "python",
   "pygments_lexer": "ipython3",
   "version": "3.11.5"
  }
 },
 "nbformat": 4,
 "nbformat_minor": 5
}
